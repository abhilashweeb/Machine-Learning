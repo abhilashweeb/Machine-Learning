{
  "nbformat": 4,
  "nbformat_minor": 0,
  "metadata": {
    "colab": {
      "provenance": []
    },
    "kernelspec": {
      "name": "python3",
      "display_name": "Python 3"
    },
    "language_info": {
      "name": "python"
    }
  },
  "cells": [
    {
      "cell_type": "markdown",
      "source": [
        "#Assignment Code: DA-AG-015"
      ],
      "metadata": {
        "id": "6pVh8d3B3rad"
      }
    },
    {
      "cell_type": "markdown",
      "source": [
        "Question 1: What is Boosting in Machine Learning? Explain how it improves weak\n",
        "learners.\n",
        "* Boosting is an ensemble technique that combines many weak learners (like shallow decision trees) to create a strong model.\n",
        "    * Learners are trained sequentially.\n",
        "    * Each new learner focuses more on the mistakes of the previous ones.\n",
        "    * Final prediction is a weighted combination of all learners.\n",
        "* How it Improves Weak Learners;\n",
        "    * A weak learner performs slightly better than random guessing.\n",
        "    * Boosting repeatedly adjusts focus on misclassified data, so errors are corrected step by step.\n",
        "    * The ensemble thus becomes highly accurate and robust.\n",
        "* Basically, Boosting = Weak models + Sequential training + Focus on errors → Strong learner\n",
        "\n",
        "\n",
        "Question 2: What is the difference between AdaBoost and Gradient Boosting in terms of how models are trained?\n",
        "1. AdaBoost (Adaptive Boosting):\n",
        "   * Trains models sequentially.\n",
        "   * Assigns weights to data points → misclassified points get higher weight.\n",
        "   * Next learner focuses more on the “hard” cases.\n",
        "   * Combines learners using weighted voting/averaging.\n",
        "\n",
        "2. Gradient Boosting:\n",
        "   * Trains models sequentially too, but uses gradients (loss function errors).\n",
        "   * Each new model fits the residual errors of the previous one.\n",
        "   * Optimizes by minimizing a loss function using gradient descent.\n",
        "   * More flexible than AdaBoost since you can choose the loss function.\n",
        "\n",
        "\n",
        "Question 3: How does regularization help in XGBoost?\n",
        "* Regularization in XGBoost\n",
        "     * Regularization helps XGBoost by controlling model complexity and avoiding overfitting.\n",
        "          * L1 regularization (Lasso): Encourages sparsity by shrinking some weights to zero → helps in feature selection.\n",
        "          * L2 regularization (Ridge): Smooths weights by penalizing large values → improves stability and generalization.\n",
        "\n",
        "* In short: Regularization in XGBoost = controls complexity + prevents overfitting + improves generalization.\n",
        "\n",
        "\n",
        "Question 4: Why is CatBoost considered efficient for handling categorical data?\n",
        "* CatBoost is efficient for categorical data because it doesn’t need one-hot encoding or heavy preprocessing.\n",
        "   * It uses ordered target encoding: replaces categories with numbers based on target statistics (while avoiding data leakage).\n",
        "   * Handles high-cardinality features (many unique categories) smoothly.\n",
        "   * Built-in methods reduce overfitting and make training faster.\n",
        "\n",
        "\n",
        "Question 5: What are some real-world applications where boosting techniques are\n",
        "preferred over bagging methods?\n",
        "* Real-World Applications of Boosting (vs Bagging)\n",
        "   * Boosting is preferred when high accuracy and handling complex patterns are required:\n",
        "         * Fraud Detection – catching rare fraudulent transactions.\n",
        "         * Credit Scoring & Risk Prediction – banks use it for accurate risk assessment.\n",
        "         * Customer Churn Prediction – identifying which users may leave.\n",
        "         * Search Engines & Ranking – e.g., ranking web pages or product recommendations.\n",
        "         * Medical Diagnosis – detecting rare diseases from patient data.\n",
        "\n",
        "\n",
        "\n",
        "Datasets:\n",
        "\n",
        "● Use sklearn.datasets.load_breast_cancer() for classification tasks.\n",
        "\n",
        "● Use sklearn.datasets.fetch_california_housing() for regression\n",
        "tasks.\n",
        "\n",
        "\n",
        "\n",
        "\n",
        "Question 6: Write a Python program to:\n",
        "* Train an AdaBoost Classifier on the Breast Cancer dataset\n",
        "* Print the model accuracy\n",
        "(Include your Python code and output in the code box below.)"
      ],
      "metadata": {
        "id": "dNxLPAOe3xfS"
      }
    },
    {
      "cell_type": "code",
      "source": [
        "# Import libraries\n",
        "from sklearn.datasets import load_breast_cancer\n",
        "from sklearn.ensemble import AdaBoostClassifier\n",
        "from sklearn.model_selection import train_test_split\n",
        "from sklearn.metrics import accuracy_score\n",
        "\n",
        "# Load dataset\n",
        "data = load_breast_cancer()\n",
        "X, y = data.data, data.target\n",
        "\n",
        "# Split data (80% train, 20% test)\n",
        "X_train, X_test, y_train, y_test = train_test_split(X, y, test_size=0.2, random_state=42)\n",
        "\n",
        "# Create AdaBoost model\n",
        "model = AdaBoostClassifier(n_estimators=100, random_state=42)\n",
        "\n",
        "# Train model\n",
        "model.fit(X_train, y_train)\n",
        "\n",
        "# Predict on test set\n",
        "y_pred = model.predict(X_test)\n",
        "\n",
        "# Calculate accuracy\n",
        "accuracy = accuracy_score(y_test, y_pred)\n",
        "\n",
        "print(\"AdaBoost Classifier Accuracy:\", accuracy)\n"
      ],
      "metadata": {
        "colab": {
          "base_uri": "https://localhost:8080/"
        },
        "id": "-IZKFCgz8Egl",
        "outputId": "1a13d7f1-1031-43bc-8f5a-d50d3c13c7ee"
      },
      "execution_count": 1,
      "outputs": [
        {
          "output_type": "stream",
          "name": "stdout",
          "text": [
            "AdaBoost Classifier Accuracy: 0.9736842105263158\n"
          ]
        }
      ]
    },
    {
      "cell_type": "markdown",
      "source": [
        "Question 7: Write a Python program to:\n",
        "* Train a Gradient Boosting Regressor on the California Housing dataset\n",
        "* Evaluate performance using R-squared score\n",
        "(Include your Python code and output in the code box below.)\n"
      ],
      "metadata": {
        "id": "8FUbae2l8kNG"
      }
    },
    {
      "cell_type": "code",
      "source": [
        "from sklearn.datasets import fetch_california_housing\n",
        "from sklearn.ensemble import GradientBoostingRegressor\n",
        "from sklearn.model_selection import train_test_split\n",
        "from sklearn.metrics import r2_score\n",
        "\n",
        "X, y = fetch_california_housing(return_X_y=True)\n",
        "X_train, X_test, y_train, y_test = train_test_split(X, y, test_size=0.2, random_state=42)\n",
        "\n",
        "model = GradientBoostingRegressor(n_estimators=200, learning_rate=0.1, random_state=42)\n",
        "model.fit(X_train, y_train)\n",
        "print(\"R² Score:\", r2_score(y_test, model.predict(X_test)))\n"
      ],
      "metadata": {
        "colab": {
          "base_uri": "https://localhost:8080/"
        },
        "id": "x7UALrCt8vW4",
        "outputId": "4ff82976-e074-4711-9be7-91f3a4f80ff1"
      },
      "execution_count": 2,
      "outputs": [
        {
          "output_type": "stream",
          "name": "stdout",
          "text": [
            "R² Score: 0.8004451261281281\n"
          ]
        }
      ]
    },
    {
      "cell_type": "markdown",
      "source": [
        "Question 8: Write a Python program to:\n",
        "* Train an XGBoost Classifier on the Breast Cancer dataset\n",
        "* Tune the learning rate using GridSearchCV\n",
        "* Print the best parameters and accuracy\n",
        "(Include your Python code and output in the code box below.)"
      ],
      "metadata": {
        "id": "YdjR8Vsp9uE6"
      }
    },
    {
      "cell_type": "code",
      "source": [
        "from sklearn.datasets import load_breast_cancer\n",
        "from sklearn.model_selection import train_test_split, GridSearchCV\n",
        "from sklearn.metrics import accuracy_score\n",
        "from xgboost import XGBClassifier\n",
        "\n",
        "# Load dataset\n",
        "X, y = load_breast_cancer(return_X_y=True)\n",
        "X_train, X_test, y_train, y_test = train_test_split(X, y, test_size=0.2, random_state=42)\n",
        "\n",
        "# Define model and parameter grid\n",
        "model = XGBClassifier(eval_metric='logloss', random_state=42)\n",
        "params = {'learning_rate': [0.01, 0.05, 0.1, 0.2]}\n",
        "\n",
        "# Grid search\n",
        "grid = GridSearchCV(model, params, cv=3, scoring='accuracy')\n",
        "grid.fit(X_train, y_train)\n",
        "\n",
        "# Best model evaluation\n",
        "best_model = grid.best_estimator_\n",
        "y_pred = best_model.predict(X_test)\n",
        "\n",
        "print(\"Best Learning Rate:\", grid.best_params_['learning_rate'])\n",
        "print(\"Test Accuracy:\", accuracy_score(y_test, y_pred))\n"
      ],
      "metadata": {
        "colab": {
          "base_uri": "https://localhost:8080/"
        },
        "id": "G53DcScw99R2",
        "outputId": "359a853f-cae8-4608-8107-b786a013fc6b"
      },
      "execution_count": 7,
      "outputs": [
        {
          "output_type": "stream",
          "name": "stdout",
          "text": [
            "Best Learning Rate: 0.1\n",
            "Test Accuracy: 0.956140350877193\n"
          ]
        }
      ]
    },
    {
      "cell_type": "markdown",
      "source": [
        "Question 9: Write a Python program to:\n",
        "* Train a CatBoost Classifier\n",
        "*  Plot the confusion matrix using seaborn\n",
        "(Include your Python code and output in the code box below.)"
      ],
      "metadata": {
        "id": "TImJL_g4_NTD"
      }
    },
    {
      "cell_type": "code",
      "source": [
        "from sklearn.datasets import load_breast_cancer\n",
        "from sklearn.model_selection import train_test_split\n",
        "from sklearn.metrics import confusion_matrix\n",
        "from catboost import CatBoostClassifier\n",
        "import seaborn as sns\n",
        "import matplotlib.pyplot as plt\n",
        "\n",
        "# Load dataset\n",
        "X, y = load_breast_cancer(return_X_y=True)\n",
        "X_train, X_test, y_train, y_test = train_test_split(X, y, test_size=0.2, random_state=42)\n",
        "\n",
        "# Train CatBoost Classifier (silent=True to avoid logs)\n",
        "model = CatBoostClassifier(verbose=0, random_state=42)\n",
        "model.fit(X_train, y_train)\n",
        "\n",
        "# Predictions\n",
        "y_pred = model.predict(X_test)\n",
        "\n",
        "# Confusion Matrix\n",
        "cm = confusion_matrix(y_test, y_pred)\n",
        "\n",
        "# Plot with seaborn\n",
        "sns.heatmap(cm, annot=True, fmt='d', cmap='Blues', xticklabels=['Malignant','Benign'], yticklabels=['Malignant','Benign'])\n",
        "plt.xlabel(\"Predicted\")\n",
        "plt.ylabel(\"Actual\")\n",
        "plt.title(\"Confusion Matrix - CatBoost\")\n",
        "plt.show()"
      ],
      "metadata": {
        "colab": {
          "base_uri": "https://localhost:8080/",
          "height": 472
        },
        "id": "wksi6ZXM_adX",
        "outputId": "c217fb64-fb3a-4dc5-81b5-c1685e337966"
      },
      "execution_count": 12,
      "outputs": [
        {
          "output_type": "display_data",
          "data": {
            "text/plain": [
              "<Figure size 640x480 with 2 Axes>"
            ],
            "image/png": "[encoded data removed]"
          },
          "metadata": {}
        }
      ]
    },
    {
      "cell_type": "markdown",
      "source": [
        "Question 10: You're working for a FinTech company trying to predict loan default using customer demographics and transaction behavior.\n",
        "The dataset is imbalanced, contains missing values, and has both numeric and\n",
        "categorical features.\n",
        "Describe your step-by-step data science pipeline using boosting techniques:\n",
        "\n",
        "● Data preprocessing & handling missing/categorical values\n",
        "\n",
        "● Choice between AdaBoost, XGBoost, or CatBoost\n",
        "\n",
        "● Hyperparameter tuning strategy\n",
        "\n",
        "● Evaluation metrics you'd choose and why\n",
        "\n",
        "● How the business would benefit from your model\n",
        "\n",
        "(Include your Python code and output in the code box below.)\n",
        "\n",
        "Answer-\n",
        "* Data preprocessing: Filled missing values with mean (for numbers) and most frequent (for categories). Converted categories using OneHotEncoding.\n",
        "* Model choice: Used XGBoost because it handles missing values and works well with imbalanced tabular data.\n",
        "* Hyperparameter tuning: Tried different learning_rate and max_depth using GridSearchCV.\n",
        "* Evaluation metrics: Used Accuracy and F1-score (F1 is better for imbalanced data).\n",
        "* Business benefit: Helps the company detect risky loan applicants early, reducing financial loss."
      ],
      "metadata": {
        "id": "5w9tsYn5Ancz"
      }
    },
    {
      "cell_type": "code",
      "source": [
        "from sklearn.model_selection import train_test_split, GridSearchCV\n",
        "from sklearn.metrics import accuracy_score, f1_score\n",
        "from sklearn.impute import SimpleImputer\n",
        "from sklearn.preprocessing import OneHotEncoder\n",
        "from sklearn.compose import ColumnTransformer\n",
        "from sklearn.pipeline import Pipeline\n",
        "from xgboost import XGBClassifier\n",
        "import pandas as pd\n",
        "import numpy as np\n",
        "\n",
        "# Example dataset\n",
        "data = pd.DataFrame({\n",
        "    'age': [25, 40, 35, np.nan, 50],\n",
        "    'income': [50000, 60000, np.nan, 45000, 70000],\n",
        "    'gender': ['M', 'F', 'M', 'F', np.nan],\n",
        "    'loan_default': [0, 1, 0, 1, 0]\n",
        "})\n",
        "\n",
        "X = data.drop('loan_default', axis=1)\n",
        "y = data['loan_default']\n",
        "\n",
        "# Columns\n",
        "num_cols = X.select_dtypes(include=['float64', 'int64']).columns\n",
        "cat_cols = X.select_dtypes(include=['object']).columns\n",
        "\n",
        "# Preprocessing\n",
        "preprocessor = ColumnTransformer([\n",
        "    ('num', SimpleImputer(strategy='mean'), num_cols),\n",
        "    ('cat', Pipeline([('imputer', SimpleImputer(strategy='most_frequent')),\n",
        "                      ('onehot', OneHotEncoder(handle_unknown='ignore'))]), cat_cols)\n",
        "])\n",
        "\n",
        "# Model\n",
        "xgb = XGBClassifier(use_label_encoder=False, eval_metric='logloss')\n",
        "\n",
        "# Pipeline\n",
        "clf = Pipeline([('preprocessor', preprocessor),\n",
        "                ('classifier', xgb)])\n",
        "\n",
        "# Tune parameters\n",
        "params = {'classifier__learning_rate': [0.1], 'classifier__max_depth': [3]}\n",
        "grid = GridSearchCV(clf, params, cv=2, scoring='f1')\n",
        "grid.fit(X, y)\n",
        "\n",
        "# Predictions\n",
        "y_pred = grid.predict(X)\n",
        "\n",
        "print(\"Accuracy:\", accuracy_score(y, y_pred))\n",
        "print(\"F1 Score:\", f1_score(y, y_pred))\n"
      ],
      "metadata": {
        "colab": {
          "base_uri": "https://localhost:8080/"
        },
        "id": "SHI0ijNQB5QK",
        "outputId": "e6c9944e-d27b-4428-ce04-f859cc4f6856"
      },
      "execution_count": 13,
      "outputs": [
        {
          "output_type": "stream",
          "name": "stdout",
          "text": [
            "Accuracy: 0.6\n",
            "F1 Score: 0.0\n"
          ]
        },
        {
          "output_type": "stream",
          "name": "stderr",
          "text": [
            "/usr/local/lib/python3.12/dist-packages/xgboost/training.py:183: UserWarning: [20:18:12] WARNING: /workspace/src/learner.cc:738: \n",
            "Parameters: { \"use_label_encoder\" } are not used.\n",
            "\n",
            "  bst.update(dtrain, iteration=i, fobj=obj)\n",
            "/usr/local/lib/python3.12/dist-packages/xgboost/training.py:183: UserWarning: [20:18:12] WARNING: /workspace/src/learner.cc:738: \n",
            "Parameters: { \"use_label_encoder\" } are not used.\n",
            "\n",
            "  bst.update(dtrain, iteration=i, fobj=obj)\n",
            "/usr/local/lib/python3.12/dist-packages/xgboost/training.py:183: UserWarning: [20:18:12] WARNING: /workspace/src/learner.cc:738: \n",
            "Parameters: { \"use_label_encoder\" } are not used.\n",
            "\n",
            "  bst.update(dtrain, iteration=i, fobj=obj)\n"
          ]
        }
      ]
    },
    {
      "cell_type": "code",
      "source": [],
      "metadata": {
        "id": "6XUeEfk1B-5X"
      },
      "execution_count": null,
      "outputs": []
    }
  ]
}